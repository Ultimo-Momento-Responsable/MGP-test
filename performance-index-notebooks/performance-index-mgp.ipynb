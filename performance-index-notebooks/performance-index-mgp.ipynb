{
 "cells": [
  {
   "cell_type": "markdown",
   "id": "be11f7d2-dae1-4306-883e-00848916ca4b",
   "metadata": {
    "tags": []
   },
   "source": [
    "# Análisis del MGP\n",
    "\n",
    "Este es un pequeño experimento estadístico del MGP, para validar cómo se comportan los datos de juegos reales.\n",
    "\n",
    "## Objetivos\n",
    "\n",
    "- Lograr que el MGP funcione consistentemente en un contexto determinado de:\n",
    "    1. Partidas.\n",
    "    2. Dificultad.\n",
    "    3. Paciente.\n",
    "- Demostrar que el MGP es viable como una métrica para el proyecto.\n",
    "- Verificar que el MGP responde a los comportamientos preestablecidos durante la discusión:\n",
    "    - No se altera demasiado con pequeños cambios en el comportamiento.\n",
    "    - Mejoras y caídas en el rendimiento se pueden visualizar en el MGP.\n",
    "    - Rendimiento sostenido se puede visualizar en el MGP.\n",
    "    \n",
    "Nota: la generalización del MGP a distintos juegos y dificultades se deja para más adelante.\n",
    "\n",
    "Algo que noto es que el MGP no marca bien red flags. Si tengo un par de partidas considerablemente malas no se va a ver tan rápido. Se ve la caída, pero es lenta."
   ]
  },
  {
   "cell_type": "code",
   "execution_count": null,
   "id": "008db576-fc90-4865-80b6-e6e2c825cb55",
   "metadata": {},
   "outputs": [],
   "source": [
    "import numpy as np\n",
    "import pandas as pd\n",
    "import matplotlib.pyplot as plt\n",
    "%run ../load-results.ipynb import GetAllResultsFromDifficulties\n",
    "%matplotlib inline"
   ]
  },
  {
   "cell_type": "code",
   "execution_count": 10,
   "id": "71ddc1d2-b8aa-4bbf-947b-c1f36f74ab35",
   "metadata": {},
   "outputs": [
    {
     "name": "stdout",
     "output_type": "stream",
     "text": [
      "20\n"
     ]
    }
   ],
   "source": [
    "# Carga de resultados\n",
    "dfResults = GetAllResultsFromDifficulties([3])\n",
    "\n",
    "# Definición de variables\n",
    "mgp = 0"
   ]
  },
  {
   "cell_type": "code",
   "execution_count": 7,
   "id": "3327eb50-fd2e-4156-a5aa-58a2a7ea0a37",
   "metadata": {},
   "outputs": [],
   "source": [
    "# Procesamiento de resultados\n",
    "normalizedResults = (dfResults-dfResults.min())/(dfResults.max()-dfResults.min())"
   ]
  },
  {
   "cell_type": "code",
   "execution_count": 9,
   "id": "3ecd026a-88ad-47b1-882f-d4a922810849",
   "metadata": {},
   "outputs": [
    {
     "name": "stdout",
     "output_type": "stream",
     "text": [
      "Promedio: 0.8402402402402402\n",
      "Mediana: 0.9\n"
     ]
    },
    {
     "data": {
      "image/png": "[encoded data removed]",
      "text/plain": [
       "<Figure size 432x288 with 1 Axes>"
      ]
     },
     "metadata": {
      "needs_background": "light"
     },
     "output_type": "display_data"
    }
   ],
   "source": [
    "# Muestra de datos reales\n",
    "normalizedResults.hist()\n",
    "print('Promedio: ' + normalizedResults.mean().astype('str'))\n",
    "print('Mediana: ' + normalizedResults.median().astype('str'))"
   ]
  },
  {
   "cell_type": "markdown",
   "id": "2ab78274-47c4-47ca-a002-49cc7e52084f",
   "metadata": {},
   "source": [
    "Puntajes muy por encima del máximo bajan el MGP.\n",
    "Puntajes muy por debajo del mínimo suben el MGP.\n",
    "Pequeños cambios funcionan como deberían.\n",
    "\n",
    "- Agregar valores frontera?\n",
    "- Creo que con muchos resultados no debería pasar\n",
    "\n",
    "- El tiempo que tardas en los ultimos niveles te penaliza muy poco, o directamente no te penaliza. Cada 3 segundos te resta un punto.\n",
    "    - Por ahí estaría bueno probar si algo como la media de tiempo de respuesta o algo que que contemple los tiempos de respuesta + errores funciona mejor.\n",
    "\n",
    "- High ballea mucho por el puntaje. Puede ser porque es muy fácil. Faltan datos de sesiones difíciles."
   ]
  }
 ],
 "metadata": {
  "kernelspec": {
   "display_name": "Python 3 (ipykernel)",
   "language": "python",
   "name": "python3"
  },
  "language_info": {
   "codemirror_mode": {
    "name": "ipython",
    "version": 3
   },
   "file_extension": ".py",
   "mimetype": "text/x-python",
   "name": "python",
   "nbconvert_exporter": "python",
   "pygments_lexer": "ipython3",
   "version": "3.10.4"
  }
 },
 "nbformat": 4,
 "nbformat_minor": 5
}
