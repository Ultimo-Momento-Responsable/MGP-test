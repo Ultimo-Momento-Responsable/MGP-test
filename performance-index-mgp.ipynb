{
 "cells": [
  {
   "cell_type": "code",
   "execution_count": 187,
   "id": "008db576-fc90-4865-80b6-e6e2c825cb55",
   "metadata": {},
   "outputs": [],
   "source": [
    "import numpy as np\n",
    "import pandas as pd\n",
    "import matplotlib.pyplot as plt\n",
    "%run load-results.ipynb import GetAllResultsFrom\n",
    "%matplotlib inline"
   ]
  },
  {
   "cell_type": "code",
   "execution_count": 160,
   "id": "71ddc1d2-b8aa-4bbf-947b-c1f36f74ab35",
   "metadata": {},
   "outputs": [],
   "source": [
    "# Carga de resultados\n",
    "dfResults = GetAllResultsFrom(gameSessionIds=[9])['Puntaje']\n",
    "\n",
    "# Definición de variables\n",
    "mgp = 0\n",
    "artificialResults = pd.Series(np.linspace(400, 400, 1))\n",
    "dfResultsWithArtifitial = pd.concat([dfResults, artificialResults])"
   ]
  },
  {
   "cell_type": "code",
   "execution_count": 161,
   "id": "3327eb50-fd2e-4156-a5aa-58a2a7ea0a37",
   "metadata": {},
   "outputs": [],
   "source": [
    "# Procesamiento de resultados\n",
    "normalizedResults = (dfResults-dfResults.min())/(dfResults.max()-dfResults.min())\n",
    "normalizedResultsWithArtifitial = (dfResultsWithArtifitial-dfResultsWithArtifitial.min())/(dfResultsWithArtifitial.max()-dfResultsWithArtifitial.min())"
   ]
  },
  {
   "cell_type": "code",
   "execution_count": 162,
   "id": "3ecd026a-88ad-47b1-882f-d4a922810849",
   "metadata": {},
   "outputs": [
    {
     "name": "stdout",
     "output_type": "stream",
     "text": [
      "Promedio: 0.7666666666666667\n",
      "Mediana: 0.9166666666666667\n"
     ]
    },
    {
     "data": {
      "image/png": "[encoded data removed]",
      "text/plain": [
       "<Figure size 432x288 with 1 Axes>"
      ]
     },
     "metadata": {
      "needs_background": "light"
     },
     "output_type": "display_data"
    }
   ],
   "source": [
    "# Muestra de datos reales\n",
    "dfResults.hist()\n",
    "print('Promedio: ' + normalizedResults.mean().astype('str'))\n",
    "print('Mediana: ' + normalizedResults.median().astype('str'))"
   ]
  },
  {
   "cell_type": "code",
   "execution_count": 163,
   "id": "c61f350f-a2b2-4631-9514-b765f5a7bcf4",
   "metadata": {},
   "outputs": [
    {
     "name": "stdout",
     "output_type": "stream",
     "text": [
      "Promedio: 0.8421052631578948\n",
      "Mediana: 0.968421052631579\n"
     ]
    },
    {
     "data": {
      "image/png": "[encoded data removed]",
      "text/plain": [
       "<Figure size 432x288 with 1 Axes>"
      ]
     },
     "metadata": {
      "needs_background": "light"
     },
     "output_type": "display_data"
    }
   ],
   "source": [
    "# Muestra de datos reales\n",
    "dfResultsWithArtifitial.hist()\n",
    "print('Promedio: ' + normalizedResultsWithArtifitial.mean().astype('str'))\n",
    "print('Mediana: ' + normalizedResultsWithArtifitial.median().astype('str'))"
   ]
  },
  {
   "cell_type": "markdown",
   "id": "2ab78274-47c4-47ca-a002-49cc7e52084f",
   "metadata": {},
   "source": [
    "Puntajes muy por encima del máximo bajan el MGP.\n",
    "Puntajes muy por debajo del mínimo suben el MGP.\n",
    "Pequeños cambios funcionan como deberían.\n",
    "\n",
    "- Agregar valores frontera?\n",
    "- Creo que con muchos resultados no debería pasar\n",
    "\n",
    "- El tiempo que tardas en los ultimos niveles te penaliza muy poco, o directamente no te penaliza. Cada 3 segundos te resta un punto.\n",
    "- Por ahi estaria bueno que si haces varios intentos rapido, que te de un pequeño bonus.\n",
    "- Hacer una prueba arrancando con 20 figuras de 5-6 niveles."
   ]
  }
 ],
 "metadata": {
  "kernelspec": {
   "display_name": "Python 3 (ipykernel)",
   "language": "python",
   "name": "python3"
  },
  "language_info": {
   "codemirror_mode": {
    "name": "ipython",
    "version": 3
   },
   "file_extension": ".py",
   "mimetype": "text/x-python",
   "name": "python",
   "nbconvert_exporter": "python",
   "pygments_lexer": "ipython3",
   "version": "3.10.4"
  }
 },
 "nbformat": 4,
 "nbformat_minor": 5
}
