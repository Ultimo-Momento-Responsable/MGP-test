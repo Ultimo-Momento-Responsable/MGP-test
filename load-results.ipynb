{
 "cells": [
  {
   "cell_type": "code",
   "execution_count": 76,
   "id": "b289f7c3-89a6-46e7-a593-36465dd98a34",
   "metadata": {},
   "outputs": [],
   "source": [
    "import pandas as pd\n",
    "\n",
    "sheets_url = 'https://docs.google.com/spreadsheets/d/1S0UyuuG-rG7W3SmLSCc-KLYd_kpdifQDaZ7TrSAu0uY/edit?usp=sharing'\n",
    "\n",
    "def LoadResults():\n",
    "    '''\n",
    "    Esta función busca todos los resultados almacenados \n",
    "    en un sheets, y los devuelve en un dataframe de pandas.\n",
    "    \n",
    "    Returns:\n",
    "    pandas.DataFrame:Conjunto de datos preformateados para poder\n",
    "    usar en el proyecto.\n",
    "    '''\n",
    "    \n",
    "    url = sheets_url.replace('/edit?usp=sharing', '/export?format=csv&gid=0')\n",
    "    \n",
    "    return pd.read_csv(url)\n",
    "\n",
    "def GetAllResultsFrom(patientNames = [], gameSessionIds = []):\n",
    "    '''\n",
    "    Devuelve todos los resultados que sean de los pacientes y \n",
    "    las sesiones que se pasan como parámetros.\n",
    "    Si no se pasa ningún atributo devuelve todos los resultados \n",
    "    que tengan un paciente y una sesión.\n",
    "    \n",
    "    Parameters:\n",
    "    patientNames (string[]): Lista de pacientes a filtrar.\n",
    "    gameSessionIds (int[]): Lista de sesiones a filtrar.\n",
    "    \n",
    "    Returns:\n",
    "    pandas.DataFrame:Conjunto de datos preformateados para poder \n",
    "    usar en el proyecto.\n",
    "    '''\n",
    "    \n",
    "    df = LoadResults()\n",
    "    patients_mask = ~df[\"Paciente\"].isna()\n",
    "    gameSessions_mask = ~df[\"Sesion #\"].isna()\n",
    "    \n",
    "    if len(patientNames) > 0:\n",
    "        patients_mask *= False \n",
    "        for p in patientNames:\n",
    "            patients_mask += df[\"Paciente\"] == p\n",
    "    \n",
    "    if len(gameSessionIds) > 0:\n",
    "        gameSessions_mask *= False\n",
    "        for gs in gameSessionIds:\n",
    "            gameSessions_mask += df[\"Sesion #\"] == gs\n",
    "        \n",
    "    mask = patients_mask * gameSessions_mask\n",
    "    \n",
    "    return df[mask]"
   ]
  }
 ],
 "metadata": {
  "kernelspec": {
   "display_name": "Python 3 (ipykernel)",
   "language": "python",
   "name": "python3"
  },
  "language_info": {
   "codemirror_mode": {
    "name": "ipython",
    "version": 3
   },
   "file_extension": ".py",
   "mimetype": "text/x-python",
   "name": "python",
   "nbconvert_exporter": "python",
   "pygments_lexer": "ipython3",
   "version": "3.10.4"
  }
 },
 "nbformat": 4,
 "nbformat_minor": 5
}
